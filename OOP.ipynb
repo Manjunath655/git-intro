{
 "cells": [
  {
   "cell_type": "code",
   "execution_count": 2,
   "id": "75775809",
   "metadata": {},
   "outputs": [
    {
     "ename": "SyntaxError",
     "evalue": "invalid syntax (<ipython-input-2-a64bb34ec3a2>, line 1)",
     "output_type": "error",
     "traceback": [
      "\u001b[0;36m  File \u001b[0;32m\"<ipython-input-2-a64bb34ec3a2>\"\u001b[0;36m, line \u001b[0;32m1\u001b[0m\n\u001b[0;31m    Git Basics\u001b[0m\n\u001b[0m        ^\u001b[0m\n\u001b[0;31mSyntaxError\u001b[0m\u001b[0;31m:\u001b[0m invalid syntax\n"
     ]
    }
   ],
   "source": [
    "Git Basics"
   ]
  },
  {
   "cell_type": "code",
   "execution_count": null,
   "id": "4d66674e",
   "metadata": {},
   "outputs": [],
   "source": [
    "car\n",
    "Attribute feature\n",
    "car.color\n",
    "yellow\n",
    "\n",
    "car.nowheels\n",
    "4\n",
    "\n",
    "car.nogears\n",
    "5\n",
    "\n",
    "\n",
    "car.currentgears\n",
    "3\n",
    "\n",
    "car.nextgear\n",
    "4 or 4\n",
    "\n",
    "car.horepower\n",
    "\n",
    "car.milage\n",
    "\n",
    "\n",
    "\n",
    "Action\n",
    "car.color()"
   ]
  },
  {
   "cell_type": "code",
   "execution_count": null,
   "id": "8b71e7a2",
   "metadata": {},
   "outputs": [],
   "source": []
  },
  {
   "cell_type": "code",
   "execution_count": null,
   "id": "5a616d96",
   "metadata": {},
   "outputs": [],
   "source": [
    "Ajay\n",
    "\n",
    "Feature\n",
    "Ajay.location\n",
    "Ajay.height\n",
    "Ajay.weight\n",
    "Ajay.education\n",
    "Ajay.gender\n",
    "\n",
    "\n",
    "Action\n",
    "Ajay.walk()\n",
    "Ajay.eating()\n",
    "Ajay.run()\n",
    "Ajay.stop()\n",
    "Ajay.jump()\n",
    "Ajay.sit()\n",
    "Ajay.sleep()\n",
    "Ajay.code()\n",
    "Ajay.learn()\n",
    "Ajay.write()\n",
    "Ajay.sing()\n",
    "Ajay.predict()\n",
    "\n",
    "\n",
    "\n",
    "\n"
   ]
  },
  {
   "cell_type": "code",
   "execution_count": null,
   "id": "be2a7e6f",
   "metadata": {},
   "outputs": [],
   "source": []
  }
 ],
 "metadata": {
  "kernelspec": {
   "display_name": "Python 3",
   "language": "python",
   "name": "python3"
  },
  "language_info": {
   "codemirror_mode": {
    "name": "ipython",
    "version": 3
   },
   "file_extension": ".py",
   "mimetype": "text/x-python",
   "name": "python",
   "nbconvert_exporter": "python",
   "pygments_lexer": "ipython3",
   "version": "3.8.8"
  }
 },
 "nbformat": 4,
 "nbformat_minor": 5
}
