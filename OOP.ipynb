{
 "cells": [
  {
   "cell_type": "code",
   "execution_count": 1,
   "id": "b4c29023",
   "metadata": {},
   "outputs": [
    {
     "data": {
      "text/plain": [
       "4"
      ]
     },
     "execution_count": 1,
     "metadata": {},
     "output_type": "execute_result"
    }
   ],
   "source": [
    "2 + 2"
   ]
  },
  {
   "cell_type": "markdown",
   "id": "1657c0fe",
   "metadata": {},
   "source": [
    "- Git Basics"
   ]
  },
  {
   "cell_type": "code",
   "execution_count": null,
   "id": "4d66674e",
   "metadata": {},
   "outputs": [],
   "source": [
    "car\n",
    "Attribute feature\n",
    "car.color\n",
    "yellow\n",
    "\n",
    "car.nowheels\n",
    "4\n",
    "\n",
    "car.nogears\n",
    "5\n",
    "\n",
    "\n",
    "car.currentgears\n",
    "3\n",
    "\n",
    "car.nextgear\n",
    "4 or 4\n",
    "\n",
    "car.horepower\n",
    "\n",
    "car.milage\n",
    "\n",
    "\n",
    "\n",
    "Action\n",
    "car.color()"
   ]
  },
  {
   "cell_type": "code",
   "execution_count": null,
   "id": "8b71e7a2",
   "metadata": {},
   "outputs": [],
   "source": []
  },
  {
   "cell_type": "code",
   "execution_count": null,
   "id": "5a616d96",
   "metadata": {},
   "outputs": [],
   "source": [
    "Ajay\n",
    "\n",
    "Feature\n",
    "Ajay.location\n",
    "Ajay.height\n",
    "Ajay.weight\n",
    "Ajay.education\n",
    "Ajay.gender\n",
    "\n",
    "\n",
    "Action\n",
    "Ajay.walk()\n",
    "Ajay.eating()\n",
    "Ajay.run()\n",
    "Ajay.stop()\n",
    "Ajay.jump()\n",
    "Ajay.sit()\n",
    "Ajay.sleep()\n",
    "Ajay.code()\n",
    "Ajay.learn()\n",
    "Ajay.write()\n",
    "Ajay.sing()\n",
    "Ajay.predict()\n",
    "\n",
    "\n",
    "\n",
    "\n"
   ]
  },
  {
   "cell_type": "code",
   "execution_count": null,
   "id": "be2a7e6f",
   "metadata": {},
   "outputs": [],
   "source": []
  }
 ],
 "metadata": {
  "kernelspec": {
   "display_name": "Python 3 (ipykernel)",
   "language": "python",
   "name": "python3"
  },
  "language_info": {
   "codemirror_mode": {
    "name": "ipython",
    "version": 3
   },
   "file_extension": ".py",
   "mimetype": "text/x-python",
   "name": "python",
   "nbconvert_exporter": "python",
   "pygments_lexer": "ipython3",
   "version": "3.9.7"
  }
 },
 "nbformat": 4,
 "nbformat_minor": 5
}
