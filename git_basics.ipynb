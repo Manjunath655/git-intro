{
 "cells": [
  {
   "cell_type": "markdown",
   "id": "bd174a4e",
   "metadata": {},
   "source": [
    "[Git Book](https://git-scm.com/book/en/v2/Getting-Started-Getting-Help)"
   ]
  },
  {
   "cell_type": "code",
   "execution_count": null,
   "id": "d79bcf18",
   "metadata": {},
   "outputs": [],
   "source": [
    "### HOmework\n",
    "\n",
    "- Install github desktop\n",
    "- Install git bash\n",
    "- Install intellij\n",
    "- create github account if you do not have one\n",
    "- create git repo in github account\n",
    "- clone git repo using github desktop in your local system\n",
    "- create a branch\n",
    "- make changes to branch\n",
    "- publish branch to remote\n",
    "- merge the branch with main in the remote\n",
    "- pull the change from origin\n",
    "- gitignore\n",
    "\n"
   ]
  },
  {
   "cell_type": "code",
   "execution_count": null,
   "id": "4a74e685",
   "metadata": {},
   "outputs": [],
   "source": []
  }
 ],
 "metadata": {
  "kernelspec": {
   "display_name": "Python 3 (ipykernel)",
   "language": "python",
   "name": "python3"
  },
  "language_info": {
   "codemirror_mode": {
    "name": "ipython",
    "version": 3
   },
   "file_extension": ".py",
   "mimetype": "text/x-python",
   "name": "python",
   "nbconvert_exporter": "python",
   "pygments_lexer": "ipython3",
   "version": "3.9.7"
  }
 },
 "nbformat": 4,
 "nbformat_minor": 5
}
