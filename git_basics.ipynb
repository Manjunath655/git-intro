{
 "cells": [
  {
   "cell_type": "code",
   "execution_count": 2,
   "id": "62cf68cf",
   "metadata": {},
   "outputs": [
    {
     "ename": "SyntaxError",
     "evalue": "invalid syntax (<ipython-input-2-69491ddfb783>, line 1)",
     "output_type": "error",
     "traceback": [
      "\u001b[0;36m  File \u001b[0;32m\"<ipython-input-2-69491ddfb783>\"\u001b[0;36m, line \u001b[0;32m1\u001b[0m\n\u001b[0;31m    https://git-scm.com/book/en/v2/Getting-Started-Getting-Help\u001b[0m\n\u001b[0m          ^\u001b[0m\n\u001b[0;31mSyntaxError\u001b[0m\u001b[0;31m:\u001b[0m invalid syntax\n"
     ]
    }
   ],
   "source": [
    "https://git-scm.com/book/en/v2/Getting-Started-Getting-Help"
   ]
  },
  {
   "cell_type": "markdown",
   "id": "88e28247",
   "metadata": {},
   "source": [
    "https://git-scm.com/book/en/v2/Getting-Started-Getting-Help"
   ]
  },
  {
   "cell_type": "markdown",
   "id": "c87984da",
   "metadata": {},
   "source": [
    "[Git concept link](https://git-scm.com/book/en/v2/Getting-Started-Getting-Help)"
   ]
  },
  {
   "cell_type": "markdown",
   "id": "bed322be",
   "metadata": {},
   "source": [
    "[Git learning](https://git-scm.com/book/en/v2/Getting-Started-Getting-Help)"
   ]
  },
  {
   "cell_type": "markdown",
   "id": "d4a5ebca",
   "metadata": {},
   "source": [
    "[whatsapp group](https://chat.whatsapp.com/BtCpR03FUhuCUnifWMhbIk)"
   ]
  },
  {
   "cell_type": "code",
   "execution_count": null,
   "id": "d79bcf18",
   "metadata": {},
   "outputs": [],
   "source": []
  },
  {
   "cell_type": "code",
   "execution_count": null,
   "id": "4a74e685",
   "metadata": {},
   "outputs": [],
   "source": []
  }
 ],
 "metadata": {
  "kernelspec": {
   "display_name": "Python 3",
   "language": "python",
   "name": "python3"
  },
  "language_info": {
   "codemirror_mode": {
    "name": "ipython",
    "version": 3
   },
   "file_extension": ".py",
   "mimetype": "text/x-python",
   "name": "python",
   "nbconvert_exporter": "python",
   "pygments_lexer": "ipython3",
   "version": "3.8.8"
  }
 },
 "nbformat": 4,
 "nbformat_minor": 5
}
